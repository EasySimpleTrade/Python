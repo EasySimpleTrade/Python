{
 "cells": [
  {
   "cell_type": "code",
   "execution_count": null,
   "id": "4b6e4ead-bc03-4c98-9ec4-4e28a7a5714e",
   "metadata": {},
   "outputs": [
    {
     "name": "stdout",
     "output_type": "stream",
     "text": [
      "265174\n"
     ]
    }
   ],
   "source": [
    "'''\n",
    "VALLAKKOTTAI MURUGAN THUNAI\n",
    "Easy Simple Trading Solutions\n",
    "Telegram @easysimpletrade\n",
    "Website https://easysimpletrade.blogspot.com\n",
    "Youtube https://www.youtube.com/@easysimpletrade\n",
    "GitHub https://github.com/EasySimpleTrade\n",
    "'''\n",
    "from pyotp import TOTP\n",
    "totpkey = 'MVQXG6LTNFWXA3DFORZGCZDF'\n",
    "otp = TOTP(totpkey).now().zfill(6)\n",
    "print(otp)"
   ]
  },
  {
   "cell_type": "code",
   "execution_count": null,
   "id": "35f12890-37a8-4f85-b950-a2c8c90c24a3",
   "metadata": {},
   "outputs": [],
   "source": []
  }
 ],
 "metadata": {
  "kernelspec": {
   "display_name": "Python 3 (ipykernel)",
   "language": "python",
   "name": "python3"
  },
  "language_info": {
   "codemirror_mode": {
    "name": "ipython",
    "version": 3
   },
   "file_extension": ".py",
   "mimetype": "text/x-python",
   "name": "python",
   "nbconvert_exporter": "python",
   "pygments_lexer": "ipython3",
   "version": "3.12.7"
  }
 },
 "nbformat": 4,
 "nbformat_minor": 5
}
